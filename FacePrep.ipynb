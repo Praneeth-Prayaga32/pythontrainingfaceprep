{
  "nbformat": 4,
  "nbformat_minor": 0,
  "metadata": {
    "colab": {
      "provenance": [],
      "toc_visible": true,
      "authorship_tag": "ABX9TyMHJzxtN3xTJEBVH3MwTfnk",
      "include_colab_link": true
    },
    "kernelspec": {
      "name": "python3",
      "display_name": "Python 3"
    },
    "language_info": {
      "name": "python"
    }
  },
  "cells": [
    {
      "cell_type": "markdown",
      "metadata": {
        "id": "view-in-github",
        "colab_type": "text"
      },
      "source": [
        "<a href=\"https://colab.research.google.com/github/Praneeth-Prayaga32/pythontrainingfaceprep/blob/main/FacePrep.ipynb\" target=\"_parent\"><img src=\"https://colab.research.google.com/assets/colab-badge.svg\" alt=\"Open In Colab\"/></a>"
      ]
    },
    {
      "cell_type": "code",
      "execution_count": null,
      "metadata": {
        "colab": {
          "base_uri": "https://localhost:8080/"
        },
        "id": "M0A1yPrhHeH3",
        "outputId": "e0bdbfb7-ec39-4179-8832-022c9ec10c1c"
      },
      "outputs": [
        {
          "output_type": "stream",
          "name": "stdout",
          "text": [
            "Max is  10  Min is  5\n"
          ]
        }
      ],
      "source": [
        "#Find max and min without using relational operators\n",
        "a=10\n",
        "b=5\n",
        "max=(a+b+abs(a-b))//2\n",
        "min=(a+b-abs(a-b))//2\n",
        "print(\"Max is \",max,\" Min is \",min)"
      ]
    },
    {
      "cell_type": "code",
      "source": [
        "a=5\n",
        "print(a++ + ++a + a++ + ++a)"
      ],
      "metadata": {
        "colab": {
          "base_uri": "https://localhost:8080/"
        },
        "id": "f_pNALxuJzYs",
        "outputId": "d1606ca2-6e63-4e21-8a24-86c38b6fd22c"
      },
      "execution_count": null,
      "outputs": [
        {
          "output_type": "stream",
          "name": "stdout",
          "text": [
            "20\n"
          ]
        }
      ]
    },
    {
      "cell_type": "code",
      "source": [
        "a-(-b)"
      ],
      "metadata": {
        "id": "IrY9-B1fKfTT",
        "colab": {
          "base_uri": "https://localhost:8080/"
        },
        "outputId": "67a97691-2399-40e8-f367-377c99c11675"
      },
      "execution_count": null,
      "outputs": [
        {
          "output_type": "execute_result",
          "data": {
            "text/plain": [
              "10"
            ]
          },
          "metadata": {},
          "execution_count": 4
        }
      ]
    },
    {
      "cell_type": "code",
      "source": [
        "#write a program to print a trapezium\n",
        "n=int(input())\n",
        "a=1\n",
        "b=n*n+1\n",
        "for i in range(n,0,-1):\n",
        "  for h in range(n-i):\n",
        "    print(\"--\",end=\"\")\n",
        "  for j in range(i):\n",
        "    print(a,end=\"*\")\n",
        "    a+=1\n",
        "  for k in range(i-1):\n",
        "    print(b,end=\"*\")\n",
        "    b+=1\n",
        "  print(b)\n",
        "  b=b-2*(i-1)"
      ],
      "metadata": {
        "colab": {
          "base_uri": "https://localhost:8080/"
        },
        "id": "J0Wd-PhfMeTT",
        "outputId": "8df5ebb0-0d15-4c27-b464-93baffec59a3"
      },
      "execution_count": null,
      "outputs": [
        {
          "output_type": "stream",
          "name": "stdout",
          "text": [
            "4\n",
            "1*2*3*4*17*18*19*20\n",
            "--5*6*7*14*15*16\n",
            "----8*9*12*13\n",
            "------10*11\n"
          ]
        }
      ]
    },
    {
      "cell_type": "code",
      "source": [
        "n=int(input())\n",
        "if(n%9==0):\n",
        "  print(9)\n",
        "elif(n%9!=0):\n",
        "  print(n%9)\n",
        "elif(n==0):\n",
        "  print(n)"
      ],
      "metadata": {
        "colab": {
          "base_uri": "https://localhost:8080/"
        },
        "id": "YFANZGg-NxFJ",
        "outputId": "a46819be-4a64-4ff3-a932-4606720a0f01"
      },
      "execution_count": null,
      "outputs": [
        {
          "output_type": "stream",
          "name": "stdout",
          "text": [
            "123456789\n",
            "9\n"
          ]
        }
      ]
    },
    {
      "cell_type": "code",
      "source": [
        "n=int(input())\n",
        "count=0\n",
        "temp=n\n",
        "sq=n*n\n",
        "while n!=0:\n",
        "  r=n%10\n",
        "  n//=10\n",
        "  count+=1\n",
        "p=10**count\n",
        "q=sq//p\n",
        "rem=sq%p\n",
        "sum=q+rem\n",
        "if(sum==temp):\n",
        "  print(\"Kaprekar\")\n",
        "else:\n",
        "  print(\"Not Kaprekar\")"
      ],
      "metadata": {
        "colab": {
          "base_uri": "https://localhost:8080/"
        },
        "id": "Mh64SQsySOV-",
        "outputId": "a61782d0-e377-4208-a0cd-534748f47d8d"
      },
      "execution_count": null,
      "outputs": [
        {
          "output_type": "stream",
          "name": "stdout",
          "text": [
            "297\n",
            "Kaprekar\n"
          ]
        }
      ]
    },
    {
      "cell_type": "code",
      "source": [
        "l=[10,98,3,33,12,22,21,11]\n",
        "e=[]\n",
        "o=[]\n",
        "for i in l:\n",
        "  if i%2==0:\n",
        "    e.append(i)\n",
        "  else:\n",
        "    o.append(i)\n",
        "e=e+o\n",
        "print(e)"
      ],
      "metadata": {
        "colab": {
          "base_uri": "https://localhost:8080/"
        },
        "id": "GDgnRR8HfMN1",
        "outputId": "6dc2cfc5-6192-425d-95a4-0088fcec6808"
      },
      "execution_count": null,
      "outputs": [
        {
          "output_type": "stream",
          "name": "stdout",
          "text": [
            "[10, 98, 12, 22, 3, 33, 21, 11]\n"
          ]
        }
      ]
    },
    {
      "cell_type": "code",
      "source": [
        "s=int(input())\n",
        "a=list(map(int,input().split()))\n",
        "l=0\n",
        "r=s-1\n",
        "while(l<r):\n",
        "  while(a[l]%2==0):\n",
        "    l=l+1\n",
        "  while(a[r]%2!=0):\n",
        "    r=r-1\n",
        "  if(l<r):\n",
        "    temp=a[l]\n",
        "    a[l]=a[r]\n",
        "    a[r]=temp\n",
        "    l=l+1\n",
        "    r=r-1\n",
        "print(\"Array after seggregation\")\n",
        "print(a)"
      ],
      "metadata": {
        "colab": {
          "base_uri": "https://localhost:8080/"
        },
        "id": "W6Vd-5TEhdG_",
        "outputId": "9cb5f1dc-317a-48b9-a8ee-a03882677fbc"
      },
      "execution_count": null,
      "outputs": [
        {
          "output_type": "stream",
          "name": "stdout",
          "text": [
            "8\n",
            "10 98 3 33 12 22 21 11\n",
            "Array after seggregation\n",
            "[10, 98, 22, 12, 33, 3, 21, 11]\n"
          ]
        }
      ]
    },
    {
      "cell_type": "code",
      "source": [
        "r=int(input())\n",
        "c=int(input())\n",
        "t=int(input())\n",
        "if t%c==1 or t%c==0 or t<c:\n",
        "  print(\"Mango\")\n",
        "else:\n",
        "  print(\"Not Mango\")"
      ],
      "metadata": {
        "colab": {
          "base_uri": "https://localhost:8080/"
        },
        "id": "y5hX_OtjsO0_",
        "outputId": "7882baa4-abb4-4a69-a766-173aad3c57f7"
      },
      "execution_count": null,
      "outputs": [
        {
          "output_type": "stream",
          "name": "stdout",
          "text": [
            "2\n",
            "5\n",
            "8\n",
            "Not Mango\n"
          ]
        }
      ]
    },
    {
      "cell_type": "code",
      "source": [
        "b,s=map(int,input().split())\n",
        "n=list(map(int,input().split()))\n",
        "count = 0\n",
        "for i in range(len(n)-1):\n",
        "  for j in range(len(s)-1)\n",
        "  if n[i]<=s or n[i]+n[j]<=s:\n",
        "    count+=1\n",
        "  elif :\n",
        "      count+=1\n",
        "print(count)"
      ],
      "metadata": {
        "colab": {
          "base_uri": "https://localhost:8080/"
        },
        "id": "o4T3-5J98N5_",
        "outputId": "644f05c6-761b-4bd9-f7fe-5f74182b7590"
      },
      "execution_count": null,
      "outputs": [
        {
          "output_type": "stream",
          "name": "stdout",
          "text": [
            "4 4\n",
            "3 3 3 3\n",
            "6\n"
          ]
        }
      ]
    },
    {
      "cell_type": "code",
      "source": [],
      "metadata": {
        "id": "HLSu9mPfET8r"
      },
      "execution_count": null,
      "outputs": []
    },
    {
      "cell_type": "code",
      "source": [
        "n=int(input())\n",
        "print((n-1)//3,(n-1)%3)"
      ],
      "metadata": {
        "colab": {
          "base_uri": "https://localhost:8080/"
        },
        "id": "IFBpci3w8vr4",
        "outputId": "6ca85392-4ec7-4890-db6e-21d78f49e107"
      },
      "execution_count": null,
      "outputs": [
        {
          "output_type": "stream",
          "name": "stdout",
          "text": [
            "6\n",
            "1 2\n"
          ]
        }
      ]
    },
    {
      "cell_type": "code",
      "source": [
        "#Ravi is not able to figure out the method to calculate the summ of Zig-Zag pattern in the matrux. can you help ravi to weite a origran to find the sum of Zig zag patterns in a given matrix\n",
        "#input comsists of 2 integers and 1 2d array\n",
        "#integers corresponding to the size of rows and columns\n",
        "#Output\n",
        "#output prints the sum of zig zag format\n",
        "#example\n",
        "'''3\n",
        "3\n",
        "1 2 3\n",
        "4 5 6\n",
        "7 8 9\n",
        "Output\n",
        "sum of zig zag pattern is 35'''"
      ],
      "metadata": {
        "colab": {
          "base_uri": "https://localhost:8080/",
          "height": 35
        },
        "id": "EQ2QFIXKDThw",
        "outputId": "9038b0ed-99bd-42e4-ae3f-0f72e81ac622"
      },
      "execution_count": null,
      "outputs": [
        {
          "output_type": "execute_result",
          "data": {
            "text/plain": [
              "'3\\n3 \\n1 2 3\\n4 5 6\\n7 8 9\\nOutput\\nsum of zig zag pattern is 35'"
            ],
            "application/vnd.google.colaboratory.intrinsic+json": {
              "type": "string"
            }
          },
          "metadata": {},
          "execution_count": 133
        }
      ]
    },
    {
      "cell_type": "code",
      "source": [
        "''' Given a materix of size n*n.n is the number of rows and columns. Traverse it in a spiral form\n",
        "Input:\n",
        "The first line contains N, which represents rows and columns\n",
        "Example\n",
        "3\n",
        "1 2 3\n",
        "4 5 6\n",
        "7 8 9\n",
        "\n",
        "Output\n",
        "1 2 3 6 9 8 7 4 5\n",
        "\n",
        "4\n",
        "1 2 3 4\n",
        "5 6 7 8\n",
        "9 10 11 12\n",
        "13 14 15 16\n",
        "\n",
        "Output\n",
        "1 2 3 4 8 12 16 15 14 13 9 5 6 7 11 10'''"
      ],
      "metadata": {
        "colab": {
          "base_uri": "https://localhost:8080/",
          "height": 70
        },
        "id": "Lpr6ARnYE_AP",
        "outputId": "032c6bff-b33f-4292-85e2-92439f30e564"
      },
      "execution_count": null,
      "outputs": [
        {
          "output_type": "execute_result",
          "data": {
            "text/plain": [
              "' Given a materix of size n*n.n is the number of rows and columns. Traverse it in a spiral form\\nInput:\\nThe first line contains N, which represents rows and columns\\nExample\\n3 \\n1 2 3\\n4 5 6 \\n7 8 9\\n\\nOutput\\n1 2 3 6 9 8 7 4 5\\n\\n4 \\n1 2 3 4\\n5 6 7 8\\n9 10 11 12\\n13 14 15 16\\n\\nOutput\\n1 2 3 4 8 12 16 15 14 13 9 5 6 7 11 10'"
            ],
            "application/vnd.google.colaboratory.intrinsic+json": {
              "type": "string"
            }
          },
          "metadata": {},
          "execution_count": 134
        }
      ]
    },
    {
      "cell_type": "code",
      "source": [
        "if(1):\n",
        "    print(\"Hello\")\n",
        "else:\n",
        "  print(\"Hi\")"
      ],
      "metadata": {
        "id": "lnjBMHhYG815",
        "colab": {
          "base_uri": "https://localhost:8080/"
        },
        "outputId": "bbeef41b-4fc9-4486-b793-574dd62a8e90"
      },
      "execution_count": null,
      "outputs": [
        {
          "output_type": "stream",
          "name": "stdout",
          "text": [
            "Hello\n"
          ]
        }
      ]
    },
    {
      "cell_type": "code",
      "source": [
        "if(print(\"H\"),'H'):\n",
        "  print(\"Hello\")\n",
        "else:\n",
        "  print(\"Hi\")"
      ],
      "metadata": {
        "colab": {
          "base_uri": "https://localhost:8080/"
        },
        "id": "6OoH97UqUIkm",
        "outputId": "512da345-d283-43c3-e307-ee823b98d673"
      },
      "execution_count": null,
      "outputs": [
        {
          "output_type": "stream",
          "name": "stdout",
          "text": [
            "H\n",
            "Hello\n"
          ]
        }
      ]
    },
    {
      "cell_type": "code",
      "source": [
        "num=int(input())\n",
        "fact=1\n",
        "for i in range(num,1,-1):\n",
        "  fact=fact*i\n",
        "print(fact)"
      ],
      "metadata": {
        "colab": {
          "base_uri": "https://localhost:8080/"
        },
        "id": "Za6wSCuSUgTy",
        "outputId": "5299ab20-a681-4c70-b513-3814700ac973"
      },
      "execution_count": null,
      "outputs": [
        {
          "output_type": "stream",
          "name": "stdout",
          "text": [
            "5\n",
            "120\n"
          ]
        }
      ]
    },
    {
      "cell_type": "code",
      "source": [
        "num=int(input())\n",
        "s=''\n",
        "while(num>0):\n",
        "  y=num%2\n",
        "  s=str(y)+s\n",
        "  num=num//2\n",
        "print(s)"
      ],
      "metadata": {
        "colab": {
          "base_uri": "https://localhost:8080/"
        },
        "id": "xbOBpPqwZdJ5",
        "outputId": "e5703a2d-17ea-4cb1-a9c0-613063ac3efe"
      },
      "execution_count": null,
      "outputs": [
        {
          "output_type": "stream",
          "name": "stdout",
          "text": [
            "10\n",
            "1010\n"
          ]
        }
      ]
    },
    {
      "cell_type": "code",
      "source": [
        "#using recursion\n",
        "n=int(input())\n",
        "def bin(n):\n",
        "  if(n==0):\n",
        "    return 0\n",
        "  else:\n",
        "    return n%2 + 10*(bin(n//2))\n",
        "print(bin(n))"
      ],
      "metadata": {
        "colab": {
          "base_uri": "https://localhost:8080/"
        },
        "id": "VyB6ByaBaySg",
        "outputId": "5c7dce09-cbf8-4db9-fffd-cf13a9825206"
      },
      "execution_count": null,
      "outputs": [
        {
          "output_type": "stream",
          "name": "stdout",
          "text": [
            "10\n",
            "1010\n"
          ]
        }
      ]
    },
    {
      "cell_type": "code",
      "source": [
        "n=int(input())\n",
        "def noofdigits(n):\n",
        "  if(n<0):\n",
        "    return 1\n",
        "  else:\n",
        "    return 1+noofdigits(n//10)\n",
        "print(noofdigits(n))"
      ],
      "metadata": {
        "colab": {
          "base_uri": "https://localhost:8080/",
          "height": 390
        },
        "id": "SI-Df6tQb4gT",
        "outputId": "214068c5-82c9-4212-d495-02fd0ad11c4b"
      },
      "execution_count": 1,
      "outputs": [
        {
          "name": "stdout",
          "output_type": "stream",
          "text": [
            "5\n"
          ]
        },
        {
          "output_type": "error",
          "ename": "RecursionError",
          "evalue": "ignored",
          "traceback": [
            "\u001b[0;31m---------------------------------------------------------------------------\u001b[0m",
            "\u001b[0;31mRecursionError\u001b[0m                            Traceback (most recent call last)",
            "\u001b[0;32m<ipython-input-1-ce2902fc13ff>\u001b[0m in \u001b[0;36m<cell line: 7>\u001b[0;34m()\u001b[0m\n\u001b[1;32m      5\u001b[0m   \u001b[0;32melse\u001b[0m\u001b[0;34m:\u001b[0m\u001b[0;34m\u001b[0m\u001b[0;34m\u001b[0m\u001b[0m\n\u001b[1;32m      6\u001b[0m     \u001b[0;32mreturn\u001b[0m \u001b[0;36m1\u001b[0m\u001b[0;34m+\u001b[0m\u001b[0mnoofdigits\u001b[0m\u001b[0;34m(\u001b[0m\u001b[0mn\u001b[0m\u001b[0;34m//\u001b[0m\u001b[0;36m10\u001b[0m\u001b[0;34m)\u001b[0m\u001b[0;34m\u001b[0m\u001b[0;34m\u001b[0m\u001b[0m\n\u001b[0;32m----> 7\u001b[0;31m \u001b[0mprint\u001b[0m\u001b[0;34m(\u001b[0m\u001b[0mnoofdigits\u001b[0m\u001b[0;34m(\u001b[0m\u001b[0mn\u001b[0m\u001b[0;34m)\u001b[0m\u001b[0;34m)\u001b[0m\u001b[0;34m\u001b[0m\u001b[0;34m\u001b[0m\u001b[0m\n\u001b[0m",
            "\u001b[0;32m<ipython-input-1-ce2902fc13ff>\u001b[0m in \u001b[0;36mnoofdigits\u001b[0;34m(n)\u001b[0m\n\u001b[1;32m      4\u001b[0m     \u001b[0;32mreturn\u001b[0m \u001b[0;36m1\u001b[0m\u001b[0;34m\u001b[0m\u001b[0;34m\u001b[0m\u001b[0m\n\u001b[1;32m      5\u001b[0m   \u001b[0;32melse\u001b[0m\u001b[0;34m:\u001b[0m\u001b[0;34m\u001b[0m\u001b[0;34m\u001b[0m\u001b[0m\n\u001b[0;32m----> 6\u001b[0;31m     \u001b[0;32mreturn\u001b[0m \u001b[0;36m1\u001b[0m\u001b[0;34m+\u001b[0m\u001b[0mnoofdigits\u001b[0m\u001b[0;34m(\u001b[0m\u001b[0mn\u001b[0m\u001b[0;34m//\u001b[0m\u001b[0;36m10\u001b[0m\u001b[0;34m)\u001b[0m\u001b[0;34m\u001b[0m\u001b[0;34m\u001b[0m\u001b[0m\n\u001b[0m\u001b[1;32m      7\u001b[0m \u001b[0mprint\u001b[0m\u001b[0;34m(\u001b[0m\u001b[0mnoofdigits\u001b[0m\u001b[0;34m(\u001b[0m\u001b[0mn\u001b[0m\u001b[0;34m)\u001b[0m\u001b[0;34m)\u001b[0m\u001b[0;34m\u001b[0m\u001b[0;34m\u001b[0m\u001b[0m\n",
            "... last 1 frames repeated, from the frame below ...\n",
            "\u001b[0;32m<ipython-input-1-ce2902fc13ff>\u001b[0m in \u001b[0;36mnoofdigits\u001b[0;34m(n)\u001b[0m\n\u001b[1;32m      4\u001b[0m     \u001b[0;32mreturn\u001b[0m \u001b[0;36m1\u001b[0m\u001b[0;34m\u001b[0m\u001b[0;34m\u001b[0m\u001b[0m\n\u001b[1;32m      5\u001b[0m   \u001b[0;32melse\u001b[0m\u001b[0;34m:\u001b[0m\u001b[0;34m\u001b[0m\u001b[0;34m\u001b[0m\u001b[0m\n\u001b[0;32m----> 6\u001b[0;31m     \u001b[0;32mreturn\u001b[0m \u001b[0;36m1\u001b[0m\u001b[0;34m+\u001b[0m\u001b[0mnoofdigits\u001b[0m\u001b[0;34m(\u001b[0m\u001b[0mn\u001b[0m\u001b[0;34m//\u001b[0m\u001b[0;36m10\u001b[0m\u001b[0;34m)\u001b[0m\u001b[0;34m\u001b[0m\u001b[0;34m\u001b[0m\u001b[0m\n\u001b[0m\u001b[1;32m      7\u001b[0m \u001b[0mprint\u001b[0m\u001b[0;34m(\u001b[0m\u001b[0mnoofdigits\u001b[0m\u001b[0;34m(\u001b[0m\u001b[0mn\u001b[0m\u001b[0;34m)\u001b[0m\u001b[0;34m)\u001b[0m\u001b[0;34m\u001b[0m\u001b[0;34m\u001b[0m\u001b[0m\n",
            "\u001b[0;31mRecursionError\u001b[0m: maximum recursion depth exceeded in comparison"
          ]
        }
      ]
    },
    {
      "cell_type": "code",
      "source": [
        "def power(a,n):\n",
        "  if a==0:\n",
        "    return 1\n",
        "  else:\n",
        "    return a*pow(a,n-1)\n",
        "a=int(input())\n",
        "n=int(input())\n",
        "print(power(a,n))"
      ],
      "metadata": {
        "colab": {
          "base_uri": "https://localhost:8080/"
        },
        "id": "Mtw7RHyAcZo_",
        "outputId": "5f56a5da-7337-493f-b059-d19d034594cb"
      },
      "execution_count": null,
      "outputs": [
        {
          "output_type": "stream",
          "name": "stdout",
          "text": [
            "2\n",
            "8\n",
            "256\n"
          ]
        }
      ]
    },
    {
      "cell_type": "code",
      "source": [
        "#write a program to find the sum of positive odd numbers present in an array using recursion\n",
        "#write a program to find the maximum element in an array using recursion\n",
        "#write a program to find whether the given number is a prime or not using recursion\n",
        "#Write a program to find the sum of array elements using recursion\n",
        "#write a program to finde the gcd of 2 numbers"
      ],
      "metadata": {
        "id": "TQ_u0HDYfLYy"
      },
      "execution_count": null,
      "outputs": []
    },
    {
      "cell_type": "code",
      "source": [
        "def prime(n,i):\n",
        "  if n%i!=0 and i not in [1,n]:\n",
        "    return True\n",
        "  else:\n",
        "    return False\n",
        "  prime(n,i+1)\n",
        "print(prime(34,2))"
      ],
      "metadata": {
        "colab": {
          "base_uri": "https://localhost:8080/"
        },
        "id": "EltE9B-2hcPA",
        "outputId": "350a419e-9f6f-44cf-cac3-bc295ee50b2d"
      },
      "execution_count": null,
      "outputs": [
        {
          "output_type": "stream",
          "name": "stdout",
          "text": [
            "False\n"
          ]
        }
      ]
    },
    {
      "cell_type": "code",
      "source": [
        "l=list(map(int,input().split()))\n",
        "def sumofarray(l,n):\n",
        "  if n==0:\n",
        "    return 0\n",
        "  return l[n-1]+sumofarray(l,n-1)\n",
        "print(sumofarray(l,len(l)))"
      ],
      "metadata": {
        "colab": {
          "base_uri": "https://localhost:8080/"
        },
        "id": "W_5WlAf1m55S",
        "outputId": "b49e44ab-a7ba-403d-e0e7-ce35d648f664"
      },
      "execution_count": null,
      "outputs": [
        {
          "output_type": "stream",
          "name": "stdout",
          "text": [
            "1 2 3 4 5\n",
            "15\n"
          ]
        }
      ]
    },
    {
      "cell_type": "code",
      "source": [
        "l = [1,2,30,4,15,6,7]\n",
        "def max_ele(l,i,max):\n",
        "  if i==len(l):\n",
        "    print(max)\n",
        "  else:\n",
        "    if(l[i] > max):\n",
        "      l[i],max = max,l[i]\n",
        "      max_ele(l,i+1,max)\n",
        "    else:\n",
        "      return max_ele(l,i+1,max)\n",
        "max_ele(l,0,0)"
      ],
      "metadata": {
        "colab": {
          "base_uri": "https://localhost:8080/"
        },
        "id": "cvdddB7iqj9t",
        "outputId": "db37fe0e-baa0-4886-cfd1-82d6a740746c"
      },
      "execution_count": null,
      "outputs": [
        {
          "output_type": "stream",
          "name": "stdout",
          "text": [
            "30\n"
          ]
        }
      ]
    },
    {
      "cell_type": "code",
      "source": [
        "import math\n",
        "x = 48\n",
        "y = 64\n",
        "q = max(x,y)\n",
        "q = q//2\n",
        "l = []\n",
        "def gcd(x,y,q,i,l):\n",
        "  if i == q+1:\n",
        "    l.sort()\n",
        "    print(l[-1])\n",
        "  else:\n",
        "    if(x%i==0 and y%i==0):\n",
        "      l.append(i)\n",
        "      gcd(x,y,q,i+1,l)\n",
        "    else:\n",
        "      gcd(x,y,q,i+1,l)\n",
        "gcd(x,y,q,1,l)"
      ],
      "metadata": {
        "colab": {
          "base_uri": "https://localhost:8080/"
        },
        "id": "LnMqShx2tdaz",
        "outputId": "6d52e15c-2707-46dc-ddb3-9fb423f736cb"
      },
      "execution_count": null,
      "outputs": [
        {
          "output_type": "stream",
          "name": "stdout",
          "text": [
            "16\n"
          ]
        }
      ]
    },
    {
      "cell_type": "code",
      "source": [
        "l=[1,2,3,4,5]\n",
        "def pos_odd(l,i,sum):\n",
        "  if i == len(l):\n",
        "    print(sum)\n",
        "  else:\n",
        "    if(l[i]>0 and l[i]%2!=0):\n",
        "      sum+=l[i]\n",
        "      pos_odd(l,i+1,sum)\n",
        "    else:\n",
        "      return pos_odd(l,i+1,sum)\n",
        "pos_odd(l,0,0)"
      ],
      "metadata": {
        "colab": {
          "base_uri": "https://localhost:8080/"
        },
        "id": "ve8K55rcu_td",
        "outputId": "70ed5a48-9894-4e8d-ca0d-a2f83f9536c9"
      },
      "execution_count": null,
      "outputs": [
        {
          "output_type": "stream",
          "name": "stdout",
          "text": [
            "9\n"
          ]
        }
      ]
    },
    {
      "cell_type": "code",
      "source": [
        "#special numbers\n",
        "n=int(input())\n",
        "li=[]\n",
        "l=list(map(int,input().split()))\n",
        "for i in range(0,len(l)-(n-1)):\n",
        "  ele=max(l[i],l[i+1],l[i+2])\n",
        "  li.append(ele)\n",
        "print(li)"
      ],
      "metadata": {
        "colab": {
          "base_uri": "https://localhost:8080/"
        },
        "id": "z5ALEBWzzWiW",
        "outputId": "a3a6fedd-6fcc-4ce3-af1a-e01fc8625392"
      },
      "execution_count": null,
      "outputs": [
        {
          "output_type": "stream",
          "name": "stdout",
          "text": [
            "3\n",
            "2 3 8 9 3 2 4 6\n",
            "[8, 9, 9, 9, 4, 6]\n"
          ]
        }
      ]
    },
    {
      "cell_type": "code",
      "source": [
        "'''print the pattern\n",
        "------1 2 3 4\n",
        "----8 7 6 5\n",
        "--9 10 11 12\n",
        "16 15 14 13'''\n",
        "a=1\n",
        "for i in range(4):\n",
        "  for j in range(4):\n",
        "      print(a,end=\" \")\n",
        "      a-=1\n",
        "    else:\n",
        "      print(a,end=\" \")\n",
        "      a+=1\n",
        "  print()"
      ],
      "metadata": {
        "colab": {
          "base_uri": "https://localhost:8080/"
        },
        "id": "t8AqXCVg1T5n",
        "outputId": "108e8875-c0b1-4b4a-b539-f044484ecc20"
      },
      "execution_count": null,
      "outputs": [
        {
          "output_type": "stream",
          "name": "stdout",
          "text": [
            "1 2 3 4 \n",
            "5 8 21 80 \n",
            "79 80 81 82 \n",
            "83 164 489 1952 \n"
          ]
        }
      ]
    },
    {
      "cell_type": "code",
      "source": [
        "a=1\n",
        "n=int(input())\n",
        "for i in range(n,0,-1):\n",
        "  for k in range(1,i):\n",
        "    print(\"--\",end=\"\")\n",
        "    k+=1\n",
        "  for j in range(n):\n",
        "    if (i%2==0):\n",
        "      if (i!=n)and (j==0):\n",
        "        a=a+(n+1)\n",
        "      print(a,end=\" \")\n",
        "      a+=1\n",
        "    if (i%2!=0):\n",
        "      if(j==0):\n",
        "        a+=(n-1)\n",
        "      print(a,end=\" \")\n",
        "      a-=1\n",
        "  print()"
      ],
      "metadata": {
        "colab": {
          "base_uri": "https://localhost:8080/"
        },
        "id": "gK7tW8ZeJ4Sx",
        "outputId": "4456453d-acce-43d7-d74f-7a011447a5d1"
      },
      "execution_count": null,
      "outputs": [
        {
          "output_type": "stream",
          "name": "stdout",
          "text": [
            "4\n",
            "------1 2 3 4 \n",
            "----8 7 6 5 \n",
            "--9 10 11 12 \n",
            "16 15 14 13 \n"
          ]
        }
      ]
    },
    {
      "cell_type": "code",
      "source": [],
      "metadata": {
        "id": "fQtcXjihPP-B"
      },
      "execution_count": null,
      "outputs": []
    }
  ]
}